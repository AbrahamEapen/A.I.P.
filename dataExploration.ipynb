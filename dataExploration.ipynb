{
 "cells": [
  {
   "cell_type": "code",
   "execution_count": 12,
   "metadata": {
    "collapsed": true
   },
   "outputs": [],
   "source": [
    "# Dependencies\n",
    "import pandas as pd\n",
    "from flask import Flask, jsonify, render_template\n",
    "app = Flask(__name__)\n",
    "import datetime as dt\n",
    "import json"
   ]
  },
  {
   "cell_type": "code",
   "execution_count": 3,
   "metadata": {},
   "outputs": [
    {
     "data": {
      "text/plain": [
       "45716"
      ]
     },
     "execution_count": 3,
     "metadata": {},
     "output_type": "execute_result"
    }
   ],
   "source": [
    "# Read in Dataframe from CSV file\n",
    "df = pd.read_csv(\"Meteorite_Landings.csv\")\n",
    "len(df)"
   ]
  },
  {
   "cell_type": "code",
   "execution_count": 4,
   "metadata": {
    "scrolled": false
   },
   "outputs": [
    {
     "data": {
      "text/html": [
       "<div>\n",
       "<style>\n",
       "    .dataframe thead tr:only-child th {\n",
       "        text-align: right;\n",
       "    }\n",
       "\n",
       "    .dataframe thead th {\n",
       "        text-align: left;\n",
       "    }\n",
       "\n",
       "    .dataframe tbody tr th {\n",
       "        vertical-align: top;\n",
       "    }\n",
       "</style>\n",
       "<table border=\"1\" class=\"dataframe\">\n",
       "  <thead>\n",
       "    <tr style=\"text-align: right;\">\n",
       "      <th></th>\n",
       "      <th>name</th>\n",
       "      <th>id</th>\n",
       "      <th>nametype</th>\n",
       "      <th>recclass</th>\n",
       "      <th>mass (g)</th>\n",
       "      <th>fall</th>\n",
       "      <th>year</th>\n",
       "      <th>reclat</th>\n",
       "      <th>reclong</th>\n",
       "      <th>GeoLocation</th>\n",
       "    </tr>\n",
       "  </thead>\n",
       "  <tbody>\n",
       "    <tr>\n",
       "      <th>0</th>\n",
       "      <td>Nogata</td>\n",
       "      <td>16988.0</td>\n",
       "      <td>Valid</td>\n",
       "      <td>l6</td>\n",
       "      <td>472.0</td>\n",
       "      <td>Fell</td>\n",
       "      <td>12/28/0860 12:00:00 AM</td>\n",
       "      <td>33.72500</td>\n",
       "      <td>130.75000</td>\n",
       "      <td>(33.725000, 130.750000)</td>\n",
       "    </tr>\n",
       "    <tr>\n",
       "      <th>2</th>\n",
       "      <td>Elbogen</td>\n",
       "      <td>7823.0</td>\n",
       "      <td>Valid</td>\n",
       "      <td>iron, iid</td>\n",
       "      <td>107000.0</td>\n",
       "      <td>Fell</td>\n",
       "      <td>12/24/1399 12:00:00 AM</td>\n",
       "      <td>50.18333</td>\n",
       "      <td>12.73333</td>\n",
       "      <td>(50.183330, 12.733330)</td>\n",
       "    </tr>\n",
       "    <tr>\n",
       "      <th>4</th>\n",
       "      <td>Ensisheim</td>\n",
       "      <td>10039.0</td>\n",
       "      <td>Valid</td>\n",
       "      <td>ll6</td>\n",
       "      <td>127000.0</td>\n",
       "      <td>Fell</td>\n",
       "      <td>12/23/1491 12:00:00 AM</td>\n",
       "      <td>47.86667</td>\n",
       "      <td>7.35000</td>\n",
       "      <td>(47.866670, 7.350000)</td>\n",
       "    </tr>\n",
       "    <tr>\n",
       "      <th>5</th>\n",
       "      <td>Rivolta de Bassi</td>\n",
       "      <td>22614.0</td>\n",
       "      <td>Valid</td>\n",
       "      <td>stone-uncl</td>\n",
       "      <td>103.3</td>\n",
       "      <td>Fell</td>\n",
       "      <td>12/23/1490 12:00:00 AM</td>\n",
       "      <td>45.48333</td>\n",
       "      <td>9.51667</td>\n",
       "      <td>(45.483330, 9.516670)</td>\n",
       "    </tr>\n",
       "    <tr>\n",
       "      <th>6</th>\n",
       "      <td>Campo del Cielo</td>\n",
       "      <td>5247.0</td>\n",
       "      <td>Valid</td>\n",
       "      <td>iron, iab-mg</td>\n",
       "      <td>50000000.0</td>\n",
       "      <td>Found</td>\n",
       "      <td>12/22/1575 12:00:00 AM</td>\n",
       "      <td>-27.46667</td>\n",
       "      <td>-60.58333</td>\n",
       "      <td>(-27.466670, -60.583330)</td>\n",
       "    </tr>\n",
       "  </tbody>\n",
       "</table>\n",
       "</div>"
      ],
      "text/plain": [
       "               name       id nametype      recclass    mass (g)   fall  \\\n",
       "0            Nogata  16988.0    Valid            l6       472.0   Fell   \n",
       "2           Elbogen   7823.0    Valid     iron, iid    107000.0   Fell   \n",
       "4         Ensisheim  10039.0    Valid           ll6    127000.0   Fell   \n",
       "5  Rivolta de Bassi  22614.0    Valid    stone-uncl       103.3   Fell   \n",
       "6   Campo del Cielo   5247.0    Valid  iron, iab-mg  50000000.0  Found   \n",
       "\n",
       "                     year    reclat    reclong               GeoLocation  \n",
       "0  12/28/0860 12:00:00 AM  33.72500  130.75000   (33.725000, 130.750000)  \n",
       "2  12/24/1399 12:00:00 AM  50.18333   12.73333    (50.183330, 12.733330)  \n",
       "4  12/23/1491 12:00:00 AM  47.86667    7.35000     (47.866670, 7.350000)  \n",
       "5  12/23/1490 12:00:00 AM  45.48333    9.51667     (45.483330, 9.516670)  \n",
       "6  12/22/1575 12:00:00 AM -27.46667  -60.58333  (-27.466670, -60.583330)  "
      ]
     },
     "execution_count": 4,
     "metadata": {},
     "output_type": "execute_result"
    }
   ],
   "source": [
    "# Data Mungling Formatt NaNs and Lower stringcase\n",
    "df.dropna(inplace =True)\n",
    "df[\"recclass\"] = df[\"recclass\"].str.lower()\n",
    "# df.to_csv(\"meteorite_data.csv\")\n",
    "df.head()"
   ]
  },
  {
   "cell_type": "code",
   "execution_count": 5,
   "metadata": {
    "collapsed": true
   },
   "outputs": [],
   "source": [
    "# Data Mungling to format Meteorite Classification\n",
    "newdf=[]\n",
    "for index, row in df.iterrows():\n",
    "    if (row['recclass'].find(',')==-1):\n",
    "        newdf.append(row['recclass'].split(',')[0])\n",
    "    else:\n",
    "        newdf.append(row['recclass'].split(', ')[1])\n",
    "df['recclass'] = newdf"
   ]
  },
  {
   "cell_type": "code",
   "execution_count": 6,
   "metadata": {},
   "outputs": [
    {
     "data": {
      "text/plain": [
       "count        31930\n",
       "unique         253\n",
       "top       1/1/1979\n",
       "freq          3045\n",
       "Name: year, dtype: object"
      ]
     },
     "execution_count": 6,
     "metadata": {},
     "output_type": "execute_result"
    }
   ],
   "source": [
    "#Describe Data Type\n",
    "df['year'].describe()"
   ]
  },
  {
   "cell_type": "code",
   "execution_count": 7,
   "metadata": {
    "collapsed": true
   },
   "outputs": [],
   "source": [
    "# Data Mungling to format years\n",
    "years=[]\n",
    "for index, row in df.iterrows():\n",
    "    if (row['year'].find(' ')==-1):\n",
    "        years.append(row['year'])\n",
    "    else:\n",
    "        years.append(row['year'].split(' ')[0])\n",
    "df['year']=years"
   ]
  },
  {
   "cell_type": "code",
   "execution_count": 8,
   "metadata": {
    "collapsed": true
   },
   "outputs": [],
   "source": [
    "# Data Mungling to format years \n",
    "newyears=[]\n",
    "for index, row in df.iterrows():\n",
    "    newyears.append(row['year'].split('/')[2])\n",
    "df['year']=newyears"
   ]
  },
  {
   "cell_type": "code",
   "execution_count": 13,
   "metadata": {},
   "outputs": [
    {
     "data": {
      "text/html": [
       "<div>\n",
       "<style>\n",
       "    .dataframe thead tr:only-child th {\n",
       "        text-align: right;\n",
       "    }\n",
       "\n",
       "    .dataframe thead th {\n",
       "        text-align: left;\n",
       "    }\n",
       "\n",
       "    .dataframe tbody tr th {\n",
       "        vertical-align: top;\n",
       "    }\n",
       "</style>\n",
       "<table border=\"1\" class=\"dataframe\">\n",
       "  <thead>\n",
       "    <tr style=\"text-align: right;\">\n",
       "      <th></th>\n",
       "      <th>name</th>\n",
       "      <th>id</th>\n",
       "      <th>nametype</th>\n",
       "      <th>recclass</th>\n",
       "      <th>mass (g)</th>\n",
       "      <th>fall</th>\n",
       "      <th>year</th>\n",
       "      <th>reclat</th>\n",
       "      <th>reclong</th>\n",
       "      <th>GeoLocation</th>\n",
       "    </tr>\n",
       "  </thead>\n",
       "  <tbody>\n",
       "    <tr>\n",
       "      <th>0</th>\n",
       "      <td>Nogata</td>\n",
       "      <td>16988.0</td>\n",
       "      <td>Valid</td>\n",
       "      <td>l6</td>\n",
       "      <td>472.0</td>\n",
       "      <td>Fell</td>\n",
       "      <td>0860</td>\n",
       "      <td>33.72500</td>\n",
       "      <td>130.75000</td>\n",
       "      <td>(33.725000, 130.750000)</td>\n",
       "    </tr>\n",
       "    <tr>\n",
       "      <th>1</th>\n",
       "      <td>Elbogen</td>\n",
       "      <td>7823.0</td>\n",
       "      <td>Valid</td>\n",
       "      <td>iid</td>\n",
       "      <td>107000.0</td>\n",
       "      <td>Fell</td>\n",
       "      <td>1399</td>\n",
       "      <td>50.18333</td>\n",
       "      <td>12.73333</td>\n",
       "      <td>(50.183330, 12.733330)</td>\n",
       "    </tr>\n",
       "    <tr>\n",
       "      <th>2</th>\n",
       "      <td>Ensisheim</td>\n",
       "      <td>10039.0</td>\n",
       "      <td>Valid</td>\n",
       "      <td>ll6</td>\n",
       "      <td>127000.0</td>\n",
       "      <td>Fell</td>\n",
       "      <td>1491</td>\n",
       "      <td>47.86667</td>\n",
       "      <td>7.35000</td>\n",
       "      <td>(47.866670, 7.350000)</td>\n",
       "    </tr>\n",
       "    <tr>\n",
       "      <th>3</th>\n",
       "      <td>Rivolta de Bassi</td>\n",
       "      <td>22614.0</td>\n",
       "      <td>Valid</td>\n",
       "      <td>stone-uncl</td>\n",
       "      <td>103.3</td>\n",
       "      <td>Fell</td>\n",
       "      <td>1490</td>\n",
       "      <td>45.48333</td>\n",
       "      <td>9.51667</td>\n",
       "      <td>(45.483330, 9.516670)</td>\n",
       "    </tr>\n",
       "    <tr>\n",
       "      <th>4</th>\n",
       "      <td>Campo del Cielo</td>\n",
       "      <td>5247.0</td>\n",
       "      <td>Valid</td>\n",
       "      <td>iab-mg</td>\n",
       "      <td>50000000.0</td>\n",
       "      <td>Found</td>\n",
       "      <td>1575</td>\n",
       "      <td>-27.46667</td>\n",
       "      <td>-60.58333</td>\n",
       "      <td>(-27.466670, -60.583330)</td>\n",
       "    </tr>\n",
       "  </tbody>\n",
       "</table>\n",
       "</div>"
      ],
      "text/plain": [
       "               name       id nametype    recclass    mass (g)   fall  year  \\\n",
       "0            Nogata  16988.0    Valid          l6       472.0   Fell  0860   \n",
       "1           Elbogen   7823.0    Valid         iid    107000.0   Fell  1399   \n",
       "2         Ensisheim  10039.0    Valid         ll6    127000.0   Fell  1491   \n",
       "3  Rivolta de Bassi  22614.0    Valid  stone-uncl       103.3   Fell  1490   \n",
       "4   Campo del Cielo   5247.0    Valid      iab-mg  50000000.0  Found  1575   \n",
       "\n",
       "     reclat    reclong               GeoLocation  \n",
       "0  33.72500  130.75000   (33.725000, 130.750000)  \n",
       "1  50.18333   12.73333    (50.183330, 12.733330)  \n",
       "2  47.86667    7.35000     (47.866670, 7.350000)  \n",
       "3  45.48333    9.51667     (45.483330, 9.516670)  \n",
       "4 -27.46667  -60.58333  (-27.466670, -60.583330)  "
      ]
     },
     "execution_count": 13,
     "metadata": {},
     "output_type": "execute_result"
    }
   ],
   "source": [
    "# Preview Dataframe\n",
    "df.reset_index(drop=True,inplace=True)\n",
    "df.head()"
   ]
  },
  {
   "cell_type": "code",
   "execution_count": 10,
   "metadata": {
    "collapsed": true
   },
   "outputs": [],
   "source": [
    "#OUTPUT dateframe into JSON filetype\n",
    "#df.to_json(\"dataframe.json\")"
   ]
  },
  {
   "cell_type": "code",
   "execution_count": 11,
   "metadata": {
    "collapsed": true
   },
   "outputs": [],
   "source": [
    "# This is another site that has the densities of the meteorite types in a table\n",
    "# df_densities = pd.read_html(\"http://meteorites.wustl.edu/id/density.htm\")"
   ]
  },
  {
   "cell_type": "code",
   "execution_count": null,
   "metadata": {
    "collapsed": true
   },
   "outputs": [],
   "source": [
    "# Turn Dataframe into JSONified output (using method #1)\n",
    "#json_dict = {}\n",
    "#json_dict['group_list'] = []\n",
    "#for grp, grp_data in df.groupby('Group'):\n",
    "#    grp_dict = {}\n",
    "#    grp_dict['group'] = grp\n",
    "#    for cat, cat_data in grp_data.groupby('Category'):\n",
    "#        grp_dict['category_list'] = []\n",
    "#        cat_dict = {}\n",
    "#        cat_dict['category'] = cat\n",
    "#        cat_dict['p_list'] =[]\n",
    "#        for p, p_data in cat_data.groupby('P'):\n",
    "#            p_data = p_data.drop(['Category','Group'], axis=1).set_index('P')\n",
    "#            for d in p_data.to_dict(orient='records'):\n",
    "#                cat_dict['p_list'].append({'p': p, 'date_list': [d]})\n",
    "#        grp_dict['category_list'].append(cat_dict)\n",
    "#    json_dict['group_list'].append(grp_dict)\n",
    "#json_out = dumps(json_dict)\n",
    "#parsed = json.loads(json_out)"
   ]
  },
  {
   "cell_type": "code",
   "execution_count": null,
   "metadata": {
    "collapsed": true
   },
   "outputs": [],
   "source": [
    "# Turn Dataframe into JSONified output (using method #2)\n",
    "# df.set_index('name').to_json('file.json', orient='index')"
   ]
  },
  {
   "cell_type": "code",
   "execution_count": null,
   "metadata": {
    "collapsed": true
   },
   "outputs": [],
   "source": [
    "# Turn Dataframe into JSONified output(using method #3)\n",
    "#j = (df.groupby(['name','id','nametype','recclass','mass (g)','fall','year','reclat','reclong','GeoLocation']).reset_index().to_json(orient='records'))"
   ]
  }
 ],
 "metadata": {
  "kernelspec": {
   "display_name": "Python [default]",
   "language": "python",
   "name": "python3"
  },
  "language_info": {
   "codemirror_mode": {
    "name": "ipython",
    "version": 3
   },
   "file_extension": ".py",
   "mimetype": "text/x-python",
   "name": "python",
   "nbconvert_exporter": "python",
   "pygments_lexer": "ipython3",
   "version": "3.6.1"
  }
 },
 "nbformat": 4,
 "nbformat_minor": 2
}
